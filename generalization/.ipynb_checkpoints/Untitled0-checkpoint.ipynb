{
 "metadata": {
  "name": "",
  "signature": "sha256:6655722bbd8c85b572789411365db929372f52bae6add3184876d2c7c8c81240"
 },
 "nbformat": 3,
 "nbformat_minor": 0,
 "worksheets": []
}