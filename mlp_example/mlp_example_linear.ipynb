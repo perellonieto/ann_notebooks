{
 "metadata": {
  "name": "",
  "signature": "sha256:bbbf463af07a2e6bd29bd5b1f6f0eb9944e1a20e94fc2712b9733cd124227957"
 },
 "nbformat": 3,
 "nbformat_minor": 0,
 "worksheets": [
  {
   "cells": [
    {
     "cell_type": "code",
     "collapsed": false,
     "input": [
      "%matplotlib inline"
     ],
     "language": "python",
     "metadata": {},
     "outputs": [],
     "prompt_number": 15
    },
    {
     "cell_type": "code",
     "collapsed": false,
     "input": [
      "import numpy as np\n",
      "import matplotlib.pyplot as plt\n",
      "import time\n",
      "from IPython import display"
     ],
     "language": "python",
     "metadata": {},
     "outputs": [],
     "prompt_number": 16
    },
    {
     "cell_type": "markdown",
     "metadata": {},
     "source": [
      "Multi Layer Perceptron\n",
      "======================\n",
      "\n",
      "Implementaton of a MLP with one hidden layer and one linear output unit"
     ]
    },
    {
     "cell_type": "code",
     "collapsed": false,
     "input": [
      "class MLP:\n",
      "    \"\"\"\n",
      "    Implementation based on the book:\n",
      "    [Bishop2006] Bishop, Christopher M. Pattern recognition and machine learning. Vol. 1. New York: springer, 2006.\n",
      "    \"\"\"\n",
      "    def __init__(self, n_input, n_hidden, n_output, activation='tanh',\n",
      "                 learning_rate=0.001, lr_policy='fixed', stepsize=20,\n",
      "                 gamma=0.1, low=0.0001, high=0.1):\n",
      "        self.n_input = n_input\n",
      "        self.n_hidden = n_hidden\n",
      "        self.n_output = n_output\n",
      "        self.lr = learning_rate\n",
      "        self.activation = activation\n",
      "\n",
      "        self.lr_policy = lr_policy\n",
      "        self.gamma = gamma\n",
      "        self.low = low\n",
      "        self.high = high\n",
      "        self.stepsize = stepsize\n",
      "        self.step = 0\n",
      "\n",
      "        self.initialize()\n",
      "\n",
      "    def initialize(self):\n",
      "        \"\"\"\n",
      "        Initialization based on the article:\n",
      "        [Xavier10] Y. Bengio, X. Glorot, Understanding the difficulty of training deep feedforward neuralnetworks, AISTATS 2010\n",
      "        \"\"\"\n",
      "        if self.activation == 'linear':\n",
      "            hi_limit = 0.5\n",
      "            oh_limit = 0.5\n",
      "        elif self.activation == 'tanh':\n",
      "            hi_limit = 6/(np.sqrt(self.n_input + self.n_hidden))\n",
      "            oh_limit = 0.5\n",
      "        elif self.activation == 'sin':\n",
      "            hi_limit = 12/(np.sqrt(self.n_input + self.n_hidden))\n",
      "            oh_limit = 1\n",
      "        self.w_hi = np.random.uniform(-hi_limit,hi_limit,size=(self.n_hidden, (self.n_input + 1)))\n",
      "        self.w_oh = np.random.uniform(-oh_limit,oh_limit,size=(self.n_output, (self.n_hidden + 1)))\n",
      "\n",
      "\n",
      "    def train(self,X,T):\n",
      "        for x, t in zip(X,T):\n",
      "            [a_hidden, z_hidden, y] = self.forward(x)\n",
      "            [d_hidden, d_output] = self.compute_deltas(y,t,z_hidden)\n",
      "            self.update(x,d_hidden,z_hidden,d_output)\n",
      "\n",
      "            self.step += 1\n",
      "            if self.lr_policy == 'step':\n",
      "                if self.step%self.stepsize == 0:\n",
      "                    self.lr *= self.gamma\n",
      "            elif self.lr_policy == 'rand':\n",
      "                if self.step%self.stepsize == 0:\n",
      "                    self.lr = np.random.uniform(low=self.low, high=self.high)\n",
      "\n",
      "    def test(self, X):\n",
      "        y = np.zeros(np.size(X))\n",
      "        for i, x in enumerate(X):\n",
      "            y[i] = self.output(x)\n",
      "        return y\n",
      "\n",
      "    def feature_extraction(self, X):\n",
      "        z_hidden = np.zeros((np.size(X), self.n_hidden + 1))\n",
      "        for i, x in enumerate(X):\n",
      "            z_hidden[i] = self.hidden_output(x)\n",
      "        return z_hidden\n",
      "\n",
      "    def error(self, X, t):\n",
      "        y = self.test(X)\n",
      "        return np.sum(np.subtract(y,t)**2)/2\n",
      "\n",
      "    def mean_error(self, X, t):\n",
      "        return self.error(X,t)/np.size(t)\n",
      "\n",
      "    def hidden_output(self, x):\n",
      "        [a_hidden, z_hidden, y] = self.forward(x)\n",
      "        return z_hidden\n",
      "\n",
      "    def output(self, x):\n",
      "        [a_hidden, z_hidden, y] = self.forward(x)\n",
      "        return y\n",
      "\n",
      "    def all_output(self, x):\n",
      "        return self.forward(x)\n",
      "\n",
      "    def forward(self, x):\n",
      "        \"\"\"\n",
      "        Forward pass\n",
      "        eq. (5.62), (5.63), (5.64)\n",
      "        \"\"\"\n",
      "        input_pattern = np.append(x,1)\n",
      "        a_hidden = np.dot(self.w_hi, input_pattern)\n",
      "        if self.activation == 'linear':\n",
      "            z_hidden = a_hidden\n",
      "        elif self.activation == 'tanh':\n",
      "            z_hidden = np.tanh(a_hidden)\n",
      "        elif self.activation == 'sin':\n",
      "            z_hidden = np.sin(a_hidden)\n",
      "        z_hidden = np.append(z_hidden,1)\n",
      "        y = np.dot(self.w_oh, z_hidden)\n",
      "        return [a_hidden, z_hidden, y]\n",
      "\n",
      "    def compute_deltas(self, y, t, z_hidden):\n",
      "        d_output = self.compute_delta_output(y,t)\n",
      "        d_hidden = self.compute_delta_hidden(z_hidden,d_output)\n",
      "        return [d_hidden, d_output]\n",
      "\n",
      "    def compute_delta_hidden(self, z_hidden, d_output):\n",
      "        \"\"\"\n",
      "        Eq. (5.56)\n",
      "        It do not compute the delta for the hidden bias.\n",
      "        As it is not used on the backpropagation\n",
      "        \"\"\"\n",
      "        d_hidden = np.zeros(self.n_hidden)\n",
      "        for j in range(self.n_hidden):\n",
      "            # sumation part\n",
      "            sumation = 0\n",
      "            for k in range(np.size(d_output)):\n",
      "                sumation += self.w_oh[k,j]*d_output[k]\n",
      "            # derivative of activation function\n",
      "            if self.activation == 'tanh':\n",
      "                derivative = (1 - z_hidden[j]**2)\n",
      "            elif self.activation == 'linear':\n",
      "                derivative = z_hidden[j]\n",
      "            elif self.activation == 'sin':\n",
      "                derivative = np.cos(z_hidden[j])\n",
      "            else:\n",
      "                print(\"Unknown activation function\")\n",
      "                exit(0)\n",
      "            # Multiplication\n",
      "            d_hidden[j] = derivative*sumation\n",
      "\n",
      "        return d_hidden\n",
      "\n",
      "    def compute_delta_output(self,y,t):\n",
      "        return y - t\n",
      "\n",
      "    def update(self, x, d_hidden, z_hidden, d_output):\n",
      "        x = np.append(x,1)\n",
      "        #print(\"n_input = {0}\\n\"\n",
      "        #      \"n_hidden = {1}\\n\"\n",
      "        #      \"n_output = {2}\\n\"\n",
      "        #      \"w_hi size = {3}\\n\"\n",
      "        #      \"w_oh size = {4}\".format(self.n_input, self.n_hidden, self.n_output,\n",
      "        #                               self.w_hi.shape, self.w_oh.shape))\n",
      "        for k in range(self.n_output):\n",
      "            for j in range(self.n_hidden + 1):\n",
      "                self.w_oh[k,j] -= self.lr*d_output[k]*z_hidden[j]\n",
      "\n",
      "        for j in range(self.n_hidden):\n",
      "            for i in range(self.n_input + 1):\n",
      "                self.w_hi[j,i] -= self.lr*d_hidden[j]*x[i]\n",
      "\n",
      "    def print_architecture(self):\n",
      "        print(self.string_architecture())\n",
      "\n",
      "    def string_architecture(self):\n",
      "        string = (\"ANN with next architecture\\n\"\n",
      "                    \"n_input = {0}\\n\"\n",
      "                    \"n_hidden = {1}\\n\"\n",
      "                    \"n_output = {2}\\n\"\n",
      "                    \"lr_policy = {3}\\n\"\n",
      "                    \"lr = {4}\").format(self.n_input,self.n_hidden, self.n_output, self.lr_policy, self.lr)\n",
      "        if self.lr_policy == 'step':\n",
      "            string += (\"stepsize = {0}\\n\"\n",
      "                       \"gamma = {1}\\n\").format(self.stepsize, self.gamma)\n",
      "        string += \"Input to hidden weights\\n\"\n",
      "        string += np.array_str(self.w_hi)\n",
      "        string += \"\\nHidden to output weights\\n\"\n",
      "        string += np.array_str(self.w_oh)\n",
      "        return string"
     ],
     "language": "python",
     "metadata": {},
     "outputs": [],
     "prompt_number": 17
    },
    {
     "cell_type": "markdown",
     "metadata": {},
     "source": [
      "Auxiliar functions\n",
      "==================\n",
      "\n",
      "To visualize and store the results"
     ]
    },
    {
     "cell_type": "code",
     "collapsed": false,
     "input": [
      "def update_plot(X,Y,grid,prediction,plt):\n",
      "    \"\"\"\n",
      "    Updates the image of the actual plot with the original target\n",
      "    and the prediction of the model\n",
      "    \"\"\"\n",
      "    plt.clf()\n",
      "    plt.scatter(X,Y,color='red')\n",
      "    plt.plot(grid,prediction)\n",
      "    display.clear_output(wait=True)\n",
      "    display.display(plt.gcf())\n",
      "\n",
      "def export_plot(plt,filename, format='pdf', date=True):\n",
      "    \"\"\"\n",
      "    Exports the figure into the project folder\n",
      "    suported formats : eps, jpeg, jpg, pdf, pgf, png, ps, raw, rgba, svg, svgz, tif, tiff.\n",
      "    \"\"\"\n",
      "    if date:\n",
      "        formated_filename = \"{0}_{1}.{2}\".format(time.strftime(\"%Y%m%d_%H%M%S\"), filename, format)\n",
      "    else:\n",
      "        formated_filename = \"{0}.{1}\".format(filename, format)\n",
      "    plt.savefig(formated_filename, format=format)"
     ],
     "language": "python",
     "metadata": {},
     "outputs": [],
     "prompt_number": 18
    },
    {
     "cell_type": "markdown",
     "metadata": {},
     "source": [
      "Pattern to approximate\n",
      "======================"
     ]
    },
    {
     "cell_type": "code",
     "collapsed": false,
     "input": [
      "N = 50 # datapoints\n",
      "\n",
      "X = np.random.uniform(-1,1,N)*np.pi\n",
      "grid = np.linspace(-1,1,150)*(np.pi + 0.5)\n",
      "\n",
      "PATTERN = 'linear' # 'linear', 'abs', 'squared', 'sin', 'cos', 'sin_cos'\n",
      "BIAS = 1\n",
      "NOISE = 0\n",
      "\n",
      "if PATTERN == 'sin':\n",
      "    original = np.sin(grid)\n",
      "    pattern = np.sin(X)\n",
      "elif PATTERN == 'linear':\n",
      "    original = grid\n",
      "    pattern = X\n",
      "elif PATTERN == 'abs':\n",
      "    original = np.abs(grid)\n",
      "    pattern = np.abs(X)\n",
      "elif PATTERN == 'squared':\n",
      "    original = grid**2\n",
      "    pattern = X**2\n",
      "elif PATTERN == 'sin':\n",
      "    original = np.sin(grid)\n",
      "    pattern = np.sin(X)\n",
      "elif PATTERN == 'cos':\n",
      "    original = np.cos(grid)\n",
      "    pattern = np.cos(X)\n",
      "elif PATTERN == 'sin_cos':\n",
      "    original = np.sin(np.cos(grid)*np.pi)\n",
      "    pattern = np.sin(np.cos(X)*np.pi)\n",
      "else:\n",
      "    original = grid\n",
      "    pattern = X\n",
      "\n",
      "original += BIAS\n",
      "pattern += BIAS\n",
      "if NOISE > 0:\n",
      "    Y = pattern + np.random.normal(size=N, scale=NOISE)\n",
      "else:\n",
      "    Y = pattern\n",
      "\n",
      "plt.plot(grid, original, color='red', label='original')\n",
      "plt.scatter(X, Y, color='red', label='samples')\n",
      "plt.ylabel('target')\n",
      "plt.xlabel('x')\n",
      "plt.legend()\n",
      "export_plot(plt,filename=\"{0}_target_pattern\".format(PATTERN), date=False)"
     ],
     "language": "python",
     "metadata": {},
     "outputs": [
      {
       "metadata": {},
       "output_type": "display_data",
       "png": "[encoded data removed]",
       "text": [
        "<matplotlib.figure.Figure at 0x7f046979a610>"
       ]
      }
     ],
     "prompt_number": 19
    },
    {
     "cell_type": "markdown",
     "metadata": {},
     "source": [
      "Especification of the MLP\n",
      "=========================\n",
      "\n",
      "it shows the initial weights"
     ]
    },
    {
     "cell_type": "code",
     "collapsed": false,
     "input": [
      "n_input = 1\n",
      "n_hidden = 3\n",
      "n_output = 1\n",
      "activation = 'tanh' # 'tanh', 'linear'\n",
      "\n",
      "# Learning rate parameters\n",
      "lr_policy = 'step' # 'step', 'rand', 'fixed'\n",
      "lr = 0.1\n",
      "gamma = 0.1\n",
      "low = 0.0001\n",
      "high = 0.1\n",
      "stepsize = 100*N\n",
      "\n",
      "EPOCHS = 200\n",
      "\n",
      "mlp = MLP(n_input, n_hidden, n_output, activation=activation, learning_rate=lr, \n",
      "          lr_policy=lr_policy, stepsize=stepsize, gamma=gamma, low=low, high=high)\n",
      "mlp.print_architecture()"
     ],
     "language": "python",
     "metadata": {},
     "outputs": [
      {
       "output_type": "stream",
       "stream": "stdout",
       "text": [
        "ANN with next architecture\n",
        "n_input = 1\n",
        "n_hidden = 3\n",
        "n_output = 1\n",
        "lr_policy = step\n",
        "lr = 0.1stepsize = 5000\n",
        "gamma = 0.1\n",
        "Input to hidden weights\n",
        "[[-1.57259345  1.07330414]\n",
        " [-1.70457366 -1.73624397]\n",
        " [-1.31864535 -0.51556891]]\n",
        "Hidden to output weights\n",
        "[[-0.32081    -0.13556186  0.39286795  0.2057656 ]]\n"
       ]
      }
     ],
     "prompt_number": 20
    },
    {
     "cell_type": "markdown",
     "metadata": {},
     "source": [
      "Initial prediction\n",
      "==================\n",
      "\n",
      "It contains the randomly initialized weights and bias"
     ]
    },
    {
     "cell_type": "code",
     "collapsed": false,
     "input": [
      "plt.clf()\n",
      "prediction = mlp.test(grid)\n",
      "plt.plot(grid, original, 'r-.', color='red', label='original')\n",
      "plt.scatter(X, Y, color='red', label='samples')\n",
      "plt.plot(grid, prediction, label='target')\n",
      "\n",
      "# plot formatting\n",
      "plt.legend()\n",
      "plt.ylabel('y')\n",
      "plt.xlabel('x')\n",
      "export_plot(plt,\"{0}_initial_prediction\".format(PATTERN), date=False)"
     ],
     "language": "python",
     "metadata": {},
     "outputs": [
      {
       "metadata": {},
       "output_type": "display_data",
       "png": "[encoded data removed]",
       "text": [
        "<matplotlib.figure.Figure at 0x7f0469500d10>"
       ]
      }
     ],
     "prompt_number": 21
    },
    {
     "cell_type": "markdown",
     "metadata": {},
     "source": [
      "Training\n",
      "========"
     ]
    },
    {
     "cell_type": "code",
     "collapsed": false,
     "input": [
      "plt.clf()\n",
      "error = np.zeros(EPOCHS)\n",
      "for epoch in range(EPOCHS):\n",
      "    prediction = mlp.test(grid)\n",
      "    plt.plot(grid,original, 'r-.', color='red', label='original')\n",
      "    update_plot(X,Y,grid,prediction,plt)\n",
      "    error[epoch] = mlp.mean_error(X,Y)\n",
      "    \n",
      "    mlp.train(X,Y)\n",
      "\n",
      "plt.plot(grid,original, 'r-.', color='red', label='original')\n",
      "plt.legend(['target', 'original', 'samples'])\n",
      "plt.ylabel('target')\n",
      "plt.xlabel('x')\n",
      "export_plot(plt,\"{0}_final_prediction\".format(PATTERN), date=False)"
     ],
     "language": "python",
     "metadata": {},
     "outputs": [
      {
       "metadata": {},
       "output_type": "display_data",
       "png": "[encoded data removed]",
       "text": [
        "<matplotlib.figure.Figure at 0x7f0469203550>"
       ]
      },
      {
       "metadata": {},
       "output_type": "display_data",
       "png": "[encoded data removed]",
       "text": [
        "<matplotlib.figure.Figure at 0x7f0469203550>"
       ]
      }
     ],
     "prompt_number": 22
    },
    {
     "cell_type": "markdown",
     "metadata": {},
     "source": [
      "Training error\n",
      "=============="
     ]
    },
    {
     "cell_type": "code",
     "collapsed": false,
     "input": [
      "plt.clf()\n",
      "plt.plot(range(1,EPOCHS), error[1:])\n",
      "plt.xlabel(\"Epoch\")\n",
      "plt.ylabel(\"Mean squared error\")\n",
      "export_plot(plt,\"{0}_training_error\".format(PATTERN), date=False)"
     ],
     "language": "python",
     "metadata": {},
     "outputs": [
      {
       "metadata": {},
       "output_type": "display_data",
       "png": "[encoded data removed]",
       "text": [
        "<matplotlib.figure.Figure at 0x7f046979ae50>"
       ]
      }
     ],
     "prompt_number": 23
    },
    {
     "cell_type": "markdown",
     "metadata": {},
     "source": [
      "Hidden representation\n",
      "=====================\n",
      "\n",
      "- Red dots are the samples of the target pattern\n",
      "- Blue line is the model prediction in all the interval\n",
      "- The rest of the colors corresponds to the hidden activations"
     ]
    },
    {
     "cell_type": "code",
     "collapsed": false,
     "input": [
      "plt.clf()\n",
      "prediction = mlp.test(grid)\n",
      "plt.plot(grid, original, 'r-.', color='red', label='original')\n",
      "plt.scatter(X,Y,color='red', label=\"samples\")\n",
      "plt.plot(grid,prediction, label=\"prediction\", linewidth=2)\n",
      "z_hidden = mlp.feature_extraction(grid)\n",
      "for i, z in enumerate(np.transpose(z_hidden)):\n",
      "    if i == n_hidden:\n",
      "        plt.plot(grid, z, '-.', label=\"hbias\")\n",
      "    else:\n",
      "        plt.plot(grid, z, '--', label=\"hz{0}\".format(i))\n",
      "\n",
      "plt.xlabel('input')\n",
      "plt.ylabel('output')\n",
      "plt.legend(loc='upper center', bbox_to_anchor=(0.5, 1.1),\n",
      "          fancybox=True, shadow=True, ncol=4)\n",
      "export_plot(plt,\"{0}_hidden_representation\".format(PATTERN), date=False)"
     ],
     "language": "python",
     "metadata": {},
     "outputs": [
      {
       "metadata": {},
       "output_type": "display_data",
       "png": "[encoded data removed]",
       "text": [
        "<matplotlib.figure.Figure at 0x7f0468f806d0>"
       ]
      }
     ],
     "prompt_number": 24
    },
    {
     "cell_type": "code",
     "collapsed": false,
     "input": [
      "mlp.print_architecture()"
     ],
     "language": "python",
     "metadata": {},
     "outputs": [
      {
       "output_type": "stream",
       "stream": "stdout",
       "text": [
        "ANN with next architecture\n",
        "n_input = 1\n",
        "n_hidden = 3\n",
        "n_output = 1\n",
        "lr_policy = step\n",
        "lr = 0.001stepsize = 5000\n",
        "gamma = 0.1\n",
        "Input to hidden weights\n",
        "[[-0.73652758  2.0373642 ]\n",
        " [-1.35315093 -1.81798317]\n",
        " [-0.97627337  0.35498928]]\n",
        "Hidden to output weights\n",
        "[[-1.5340761  -0.74291821 -0.99360399  1.08519426]]\n"
       ]
      }
     ],
     "prompt_number": 25
    },
    {
     "cell_type": "code",
     "collapsed": false,
     "input": [],
     "language": "python",
     "metadata": {},
     "outputs": []
    }
   ],
   "metadata": {}
  }
 ]
}